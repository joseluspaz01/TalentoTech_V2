{
  "nbformat": 4,
  "nbformat_minor": 0,
  "metadata": {
    "colab": {
      "provenance": [],
      "authorship_tag": "ABX9TyMptprSiPpnjin1V8An70wg",
      "include_colab_link": true
    },
    "kernelspec": {
      "name": "python3",
      "display_name": "Python 3"
    },
    "language_info": {
      "name": "python"
    }
  },
  "cells": [
    {
      "cell_type": "markdown",
      "metadata": {
        "id": "view-in-github",
        "colab_type": "text"
      },
      "source": [
        "<a href=\"https://colab.research.google.com/github/joseluspaz01/TalentoTech_V2/blob/main/Lecci%C3%B3n_1_args_y_kwargs.ipynb\" target=\"_parent\"><img src=\"https://colab.research.google.com/assets/colab-badge.svg\" alt=\"Open In Colab\"/></a>"
      ]
    },
    {
      "cell_type": "code",
      "execution_count": null,
      "metadata": {
        "id": "BSyP0tWhOtcW"
      },
      "outputs": [],
      "source": [
        "al pasar los valores con *numeros este se convierte en tupla"
      ]
    },
    {
      "cell_type": "code",
      "source": [
        "def concatenar_palabras(*palabras):\n",
        "  frase=\" \".join(palabras) # une las palabras con espacios al colocar \" \"con espacios\n",
        "  print(frase)\n",
        "\n",
        "concatenar_palabras(\"voy\", \"hacer\", \"un\", \"programador\", \"senior\")"
      ],
      "metadata": {
        "colab": {
          "base_uri": "https://localhost:8080/"
        },
        "id": "4WAd6ILBQwHk",
        "outputId": "1ee5b7a1-6cf1-41fe-cdc7-46f3096e26b0"
      },
      "execution_count": 3,
      "outputs": [
        {
          "output_type": "stream",
          "name": "stdout",
          "text": [
            "voy hacer un programador senior\n"
          ]
        }
      ]
    },
    {
      "cell_type": "markdown",
      "source": [
        "** **kwars:**\n",
        "pasa los argumentos con clave y valor\n",
        "convierte los argumentos en un diccionario"
      ],
      "metadata": {
        "id": "3a1ElJHERrmt"
      }
    },
    {
      "cell_type": "code",
      "source": [
        "def mostrar_info(**kwargs):\n",
        "  for clave, valor in kwargs.items():\n",
        "    print(f\"{clave}: {valor}\")\n",
        "\n",
        "mostrar_info(nombre=\"Jose\", edad=25, ciudad=\"Pasto\")"
      ],
      "metadata": {
        "colab": {
          "base_uri": "https://localhost:8080/"
        },
        "id": "PyH8LpDIR7oM",
        "outputId": "8f9e32ca-d764-4e2b-f18c-b702db25a765"
      },
      "execution_count": 4,
      "outputs": [
        {
          "output_type": "stream",
          "name": "stdout",
          "text": [
            "nombre: Jose\n",
            "edad: 25\n",
            "ciudad: Pasto\n"
          ]
        }
      ]
    },
    {
      "cell_type": "markdown",
      "source": [
        "**Ejercicio **kwargs**\n",
        "\n"
      ],
      "metadata": {
        "id": "tIr2m_cXTT-7"
      }
    },
    {
      "cell_type": "code",
      "source": [
        "def configurar_usuario(**kwargs):\n",
        "  if \"nombre\" in kwargs:\n",
        "    print(f\"Bienvenido, {kwargs['nombre']}!\")\n",
        "  if \"tema\" in kwargs:\n",
        "    print(f\"Usando tema: {kwargs['tema']}\")\n",
        "\n",
        "configurar_usuario(nombre=\"Jose Paz\", tema=\"Black\")"
      ],
      "metadata": {
        "colab": {
          "base_uri": "https://localhost:8080/"
        },
        "id": "GMy3VPjgTrVL",
        "outputId": "533981b1-0a21-4db6-9498-2b05d5ba4ea6"
      },
      "execution_count": 6,
      "outputs": [
        {
          "output_type": "stream",
          "name": "stdout",
          "text": [
            "Bienvenido, Jose Paz!\n",
            "Usando tema: Black\n"
          ]
        }
      ]
    },
    {
      "cell_type": "markdown",
      "source": [
        "**ejercicio con descripcion de factura de clientes**"
      ],
      "metadata": {
        "id": "QirkHtFFVor4"
      }
    },
    {
      "cell_type": "code",
      "source": [
        "def factura(cliente, *producto, **detalles):\n",
        "  print(f\"Factura para: {cliente}\")\n",
        "  print(\"productos comprados\")\n",
        "  for producto in producto:\n",
        "    print(f\"- {producto}\")\n",
        "  print(\"detalles de la factura\")\n",
        "  for clave, valor in detalles.items():\n",
        "    print(f\"{clave}: {valor}\")\n",
        "factura(\"Jose Paz\", \"laptop Mac\", \"Mouse Gammer\", total = 5000, descuento=10)"
      ],
      "metadata": {
        "colab": {
          "base_uri": "https://localhost:8080/"
        },
        "id": "6TrnjUFGVuwr",
        "outputId": "e399a555-91de-435a-9d9a-2b4b08f11ae8"
      },
      "execution_count": 9,
      "outputs": [
        {
          "output_type": "stream",
          "name": "stdout",
          "text": [
            "Factura para: Jose Paz\n",
            "productos comprados\n",
            "- laptop Mac\n",
            "- Mouse Gammer\n",
            "detalles de la factura\n",
            "total: 5000\n",
            "descuento: 10\n"
          ]
        }
      ]
    },
    {
      "cell_type": "markdown",
      "source": [
        "**Registro de usuario**"
      ],
      "metadata": {
        "id": "qRCHbPV4nNiz"
      }
    },
    {
      "cell_type": "code",
      "source": [
        "def reg_usuario(**datos):\n",
        "  print(\"Registro de usuario\")\n",
        "  for clave, valor in datos.items():\n",
        "    print(f\"{clave.capitalize()}: {valor}\")\n",
        "#datos de registro\n",
        "reg_usuario(nombre=\"Jose Paz\", correo = \"jose@gmail.com\", edad=25, ciudad=\"Pasto\")\n",
        "print(\"--------\")\n",
        "reg_usuario(nombre=\"Juan Perez\", correo = \"juanitoMiguel@gmail.com\", telefono=\"123245565\" )"
      ],
      "metadata": {
        "colab": {
          "base_uri": "https://localhost:8080/"
        },
        "id": "5PsSJBOjnTZl",
        "outputId": "b838f52a-933c-44db-dbcd-65bf2e7aaaf5"
      },
      "execution_count": 13,
      "outputs": [
        {
          "output_type": "stream",
          "name": "stdout",
          "text": [
            "Registro de usuario\n",
            "Nombre: Jose Paz\n",
            "Correo: jose@gmail.com\n",
            "Edad: 25\n",
            "Ciudad: Pasto\n",
            "--------\n",
            "Registro de usuario\n",
            "Nombre: Juan Perez\n",
            "Correo: juanitoMiguel@gmail.com\n",
            "Telefono: 123245565\n"
          ]
        }
      ]
    },
    {
      "cell_type": "markdown",
      "source": [
        "**descuentos de tienda acumulables **\n",
        "\n",
        "precios fijos y descuentos varibales"
      ],
      "metadata": {
        "id": "3I9Jc5U6p5j5"
      }
    },
    {
      "cell_type": "code",
      "source": [
        "def aplicar_descuentos(precio, *descuentos):\n",
        "    for descuento in descuentos:\n",
        "      precio -= precio * (descuento/100)\n",
        "    return precio\n",
        "\n",
        "# ejemplo precio inicial 100 con descunto del 10% y 5%\n",
        "precio_final = aplicar_descuentos(100,10,5,20,4)\n",
        "print(f\"El precio final es: {precio_final:.2f}\")\n",
        ""
      ],
      "metadata": {
        "colab": {
          "base_uri": "https://localhost:8080/"
        },
        "id": "4TyRoeE4qDRq",
        "outputId": "31ca4ca8-cf0f-4e45-e740-c6765380b8e4"
      },
      "execution_count": 21,
      "outputs": [
        {
          "output_type": "stream",
          "name": "stdout",
          "text": [
            "El precio final es: 65.66\n"
          ]
        }
      ]
    },
    {
      "cell_type": "markdown",
      "source": [
        "**GENERADOR DE REPORTES DINAMICOS**\n",
        "** *args y **kwargs**\n",
        "\n",
        "Imaginemos que queremos generar reportes personalizado en un sistema de ventas"
      ],
      "metadata": {
        "id": "W3kfaVYxr8SF"
      }
    },
    {
      "cell_type": "code",
      "source": [
        "def generar_reporte(titulo, *columnas, **datos):\n",
        "  print(f\"\\n  titulo: {titulo}\")\n",
        "  print(\"-\" * 40)\n",
        "\n",
        "  if columnas:\n",
        "    print(\" | \".join(columnas))\n",
        "\n",
        "  for clave, valor in datos.items():\n",
        "    print(f\"{clave}: {valor}\")\n",
        "\n",
        "# generar un reporte dinamico\n",
        "generar_reporte(\n",
        "    \"Reporte de ventas\",\n",
        "    \"producto\", \"cantidad\", \"precio\",\n",
        "    Producto = \"laptop\",\n",
        "    cantidad = 10,\n",
        "    precio = 1000000)"
      ],
      "metadata": {
        "colab": {
          "base_uri": "https://localhost:8080/"
        },
        "id": "XtwIJJFpsFn4",
        "outputId": "456fecfb-2a00-46a4-d373-693d58cea230"
      },
      "execution_count": 22,
      "outputs": [
        {
          "output_type": "stream",
          "name": "stdout",
          "text": [
            "\n",
            "  titulo: Reporte de ventas\n",
            "----------------------------------------\n",
            "producto | cantidad | precio\n",
            "Producto: laptop\n",
            "cantidad: 10\n",
            "precio: 1000000\n"
          ]
        }
      ]
    },
    {
      "cell_type": "markdown",
      "source": [
        "**HACER PEDIDOS**"
      ],
      "metadata": {
        "id": "QwyQBdnHwF3b"
      }
    },
    {
      "cell_type": "code",
      "source": [
        "def hacer_pedido(cliente, *ingredientes, **detalles):\n",
        "  print(f\"Pedido de {cliente}:\")\n",
        "  print(f\"Ingredientes: {','.join(ingredientes) if ingredientes else 'basico'}\")\n",
        "\n",
        "  for clave, valor in detalles.items():\n",
        "    print(f\"{clave.capitalize()}: {valor}\")\n",
        "\n",
        "  # ejemplo de pedidos\n",
        "  hacer_pedido(\"Carlos\",\"Queso\",\"Tomate\",\"lechuga\", tamaño=\"grande\", bebida=\"cocacola\")\n",
        "  hacer_pedido(\"Ana\",tamaño=\"grande\",sin_gluten= True)"
      ],
      "metadata": {
        "id": "u_djEPrHwQS4"
      },
      "execution_count": 28,
      "outputs": []
    },
    {
      "cell_type": "code",
      "source": [],
      "metadata": {
        "id": "kt54_RC8yP60"
      },
      "execution_count": null,
      "outputs": []
    },
    {
      "cell_type": "markdown",
      "source": [
        "**EJEMPLO DE GRAFICAS**"
      ],
      "metadata": {
        "id": "wmOH-V0vyyvk"
      }
    },
    {
      "cell_type": "code",
      "source": [
        "import matplotlib.pyplot as plt\n",
        "\n",
        "def graficar(title,*valores, **opciones):\n",
        "    plt.plot(valores, **opciones)  # Pasamos opciones como kwargs\n",
        "    plt.xlabel(opciones.get(\"xlabel\", \"Eje X\"))\n",
        "    plt.ylabel(opciones.get(\"ylabel\", \"Eje Y\"))\n",
        "    plt.title(opciones.get(\"title\",title))\n",
        "    plt.show()\n",
        "\n",
        "# Ejemplo de grafico\n",
        "graficar(\"grafico  con puntos\", 10,20,30,40,50, color=\"red\", linestyle=\"--\", marker=\"o\" )"
      ],
      "metadata": {
        "colab": {
          "base_uri": "https://localhost:8080/",
          "height": 472
        },
        "id": "qDBkQp4Ox94R",
        "outputId": "d51d2d4e-a251-41be-8bd3-189121e24d10"
      },
      "execution_count": 44,
      "outputs": [
        {
          "output_type": "display_data",
          "data": {
            "text/plain": [
              "<Figure size 640x480 with 1 Axes>"
            ],
            "image/png": "[encoded data removed]"
          },
          "metadata": {}
        }
      ]
    },
    {
      "cell_type": "markdown",
      "source": [
        "**PANDAS PARA GESTIIONAR DATOS**"
      ],
      "metadata": {
        "id": "mLi4rHpKI14c"
      }
    },
    {
      "cell_type": "code",
      "source": [
        "import pandas as pd\n",
        "def cargar_datos(archivo, **opciones):\n",
        "  df = pd.read_csv(archivo, **opciones)\n",
        "\n",
        "  print(df.head())#muestra la primera fila\n",
        "\n",
        "def leer_excel(archivo, **opciones):\n",
        "  dn = pd.read_excel(archivo, **opciones)\n",
        "  print(dn.head())\n",
        "\n",
        "#cargar datos con opciones personalizadas\n",
        "leer_excel(\"datos.xlsx\")"
      ],
      "metadata": {
        "colab": {
          "base_uri": "https://localhost:8080/"
        },
        "id": "uzDDoLIuI5lJ",
        "outputId": "5240152d-ea3c-4f14-c7d5-2cb576c60fed"
      },
      "execution_count": 9,
      "outputs": [
        {
          "output_type": "stream",
          "name": "stdout",
          "text": [
            "      Ciudad   Zona   Ventas Forma pago           Categoría\n",
            "0  Santander  Norte  1235.00    Contado    Eletrodomésticos\n",
            "1  Santander  Norte   639.20    Tarjeta    Eletrodomésticos\n",
            "2  Santander  Norte   621.39    Contado         Informática\n",
            "3  Santander  Norte  1259.50    Tarjeta         Informática\n",
            "4  Santander  Norte  2563.25    Contado  Audio y televisión\n"
          ]
        }
      ]
    },
    {
      "cell_type": "code",
      "source": [],
      "metadata": {
        "id": "V7oQTOOBI1gn"
      },
      "execution_count": null,
      "outputs": []
    }
  ]
}