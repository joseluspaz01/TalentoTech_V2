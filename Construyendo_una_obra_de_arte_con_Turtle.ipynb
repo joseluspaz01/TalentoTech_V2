{
  "nbformat": 4,
  "nbformat_minor": 0,
  "metadata": {
    "colab": {
      "provenance": [],
      "authorship_tag": "ABX9TyPMk6MXjL3d9T9p5HdrR0tj",
      "include_colab_link": true
    },
    "kernelspec": {
      "name": "python3",
      "display_name": "Python 3"
    },
    "language_info": {
      "name": "python"
    }
  },
  "cells": [
    {
      "cell_type": "markdown",
      "metadata": {
        "id": "view-in-github",
        "colab_type": "text"
      },
      "source": [
        "<a href=\"https://colab.research.google.com/github/joseluspaz01/TalentoTech_V2/blob/main/Construyendo_una_obra_de_arte_con_Turtle.ipynb\" target=\"_parent\"><img src=\"https://colab.research.google.com/assets/colab-badge.svg\" alt=\"Open In Colab\"/></a>"
      ]
    },
    {
      "cell_type": "code",
      "execution_count": null,
      "metadata": {
        "id": "z3EiH2IFGBp3"
      },
      "outputs": [],
      "source": []
    },
    {
      "cell_type": "markdown",
      "source": [
        "**Construyendo una obra de arte con Turtle.**\n",
        "\n",
        "generar una matriz cuadrada y se debe recorrer de izquierda a derecha, inciando en la parte de abajo y finalizando arriba parte derecha\n",
        "matriz 10x10"
      ],
      "metadata": {
        "id": "fPSW2r4eGTrM"
      }
    },
    {
      "cell_type": "code",
      "source": [
        "import turtle\n",
        "import random\n",
        "\n",
        "#config screen\n",
        "screen = turtle.Screen()\n",
        "screen.setup(600, 600)\n",
        "draw = turtle.Turtle()\n",
        "draw.getscreen().bgcolor(\"gray\")\n",
        "draw.speed(0)\n",
        "posicion_X = -150\n",
        "posicion_Y = -100\n",
        "\n",
        "#config sphere\n",
        "sphereSize = 20\n",
        "spacing = 30\n",
        "colors = [\"#FF0000\", \"#00FF00\", \"#0000FF\", \"#FFFF00\", \"#FFA500\", \"#800080\", \"#FFC0CB\", \"#000000\", \"#FFFFFF\", \"#FFFFF0\"]\n",
        "\n",
        "# config rows and cols\n",
        "rows = 10\n",
        "cols = 10\n",
        "\n",
        "#draw turtle\n",
        "def drawTurtle():\n",
        "    draw.penup()\n",
        "    draw.forward(spacing)\n",
        "    draw.pendown()\n",
        "\n",
        "\n",
        "#draw board\n",
        "for row in range(rows):\n",
        "    draw.penup()\n",
        "    draw.goto(posicion_X, posicion_Y + row * spacing)\n",
        "    draw.pendown()\n",
        "    for col in range(cols):\n",
        "        color = random.choice(colors)\n",
        "        draw.dot(sphereSize, color)\n",
        "        drawTurtle()\n",
        "\n",
        "\n",
        "#mensaje\n",
        "mensaje = turtle.Turtle()\n",
        "mensaje.color(\"black\")\n",
        "mensaje.penup()\n",
        "mensaje.goto(-10, 230)\n",
        "mensaje.hideturtle()\n",
        "\n",
        "# Escribir el mensaje con tamaño grande\n",
        "mensaje.write(\"🌟 By: Jose Paz 🚀\", align=\"center\", font=(\"roboto\", 20, \"bold\"))\n",
        "#getcanvas().postscript(file=\"dibuno.eps\")\n",
        "\n",
        "draw.hideturtle()\n",
        "turtle.done()\n"
      ],
      "metadata": {
        "id": "4wS1B_ywHCda"
      },
      "execution_count": null,
      "outputs": []
    }
  ]
}