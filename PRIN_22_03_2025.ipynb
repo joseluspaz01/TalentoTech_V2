{
  "nbformat": 4,
  "nbformat_minor": 0,
  "metadata": {
    "colab": {
      "provenance": [],
      "include_colab_link": true
    },
    "kernelspec": {
      "name": "python3",
      "display_name": "Python 3"
    },
    "language_info": {
      "name": "python"
    }
  },
  "cells": [
    {
      "cell_type": "markdown",
      "metadata": {
        "id": "view-in-github",
        "colab_type": "text"
      },
      "source": [
        "<a href=\"https://colab.research.google.com/github/joseluspaz01/TalentoTech_V2/blob/main/PRIN_22_03_2025.ipynb\" target=\"_parent\"><img src=\"https://colab.research.google.com/assets/colab-badge.svg\" alt=\"Open In Colab\"/></a>"
      ]
    },
    {
      "cell_type": "code",
      "execution_count": null,
      "metadata": {
        "id": "XthPNLsc_Ag9"
      },
      "outputs": [],
      "source": []
    },
    {
      "cell_type": "markdown",
      "source": [
        "Talento Tech - Programacion Integrador\n",
        "---\n",
        "## **📌 Polimorfismo, Herencia y Recursividad en Python**  \n",
        "\n",
        "En esta guía, exploraremos los conceptos de **polimorfismo, herencia y recursividad**, junto con ejemplos prácticos y sus aplicaciones en Python.  \n",
        "\n",
        "---\n",
        "\n",
        "# **1️⃣ Herencia en Python**  \n",
        "### **📌 Concepto**\n",
        "La **herencia** es un mecanismo de la **programación orientada a objetos (POO)** que permite que una clase hija herede **atributos y métodos** de una clase padre.  \n",
        "\n",
        "📌 **Ventajas de la herencia:**  \n",
        "✅ Reutilización de código.  \n",
        "✅ Facilita la extensión de funcionalidades.  \n",
        "✅ Promueve el principio de **\"No repetir código\" (DRY - Don’t Repeat Yourself).**  \n",
        "\n",
        "---\n",
        "\n",
        "### **💻 Ejemplo 1: Herencia en Python**  \n",
        "📌 En este ejemplo, creamos una **clase padre (`Animal`)** y una **clase hija (`Perro`)** que hereda de ella.  \n",
        "```python\n",
        "class Animal:\n",
        "    def __init__(self, nombre):\n",
        "        self.nombre = nombre\n",
        "\n",
        "    def sonido(self):\n",
        "        return \"Hace algún sonido\"\n",
        "\n",
        "# Clase hija que hereda de Animal\n",
        "class Perro(Animal):\n",
        "    def sonido(self):\n",
        "        return \"Ladra 🐶\"\n",
        "\n",
        "# Crear objetos\n",
        "animal = Animal(\"Criatura\")\n",
        "perro = Perro(\"Firulais\")\n",
        "\n",
        "print(animal.nombre, \"-\", animal.sonido())  # Criatura - Hace algún sonido\n",
        "print(perro.nombre, \"-\", perro.sonido())    # Firulais - Ladra 🐶\n",
        "```\n",
        "🔹 **Explicación:**  \n",
        "- `Perro` hereda **atributos y métodos** de `Animal`.  \n",
        "- Se **sobrescribe (`override`)** el método `sonido()`.  \n",
        "\n",
        "📌 **Aplicaciones de la herencia:**  \n",
        "✅ Desarrollo de jerarquías en videojuegos (**ejemplo:** Personaje → Guerrero → Mago).  \n",
        "✅ Modelado de sistemas bancarios (**ejemplo:** Cuenta → Cuenta Ahorros → Cuenta Corriente).  \n",
        "\n",
        "---\n",
        "\n",
        "# **2️⃣ Polimorfismo en Python**  \n",
        "### **📌 Concepto**\n",
        "El **polimorfismo** permite que diferentes clases puedan **compartir un mismo método**, pero cada una lo implemente de manera distinta.  \n",
        "\n",
        "📌 **Tipos de polimorfismo:**  \n",
        "🔹 **Polimorfismo de métodos (sobrescritura)**: Una clase hija **modifica** el comportamiento de un método heredado.  \n",
        "🔹 **Polimorfismo con funciones y clases diferentes**: Se usan **métodos con el mismo nombre** en diferentes clases sin estar relacionadas por herencia.  \n",
        "\n",
        "---\n",
        "\n",
        "### **💻 Ejemplo 2: Polimorfismo con Clases Diferentes**  \n",
        "📌 **Diferentes clases tienen el mismo método `sonido()` pero con comportamientos distintos.**  \n",
        "```python\n",
        "class Perro:\n",
        "    def sonido(self):\n",
        "        return \"Ladra 🐶\"\n",
        "\n",
        "class Gato:\n",
        "    def sonido(self):\n",
        "        return \"Maulla 🐱\"\n",
        "\n",
        "# Función que usa polimorfismo\n",
        "def hacer_sonido(animal):\n",
        "    print(animal.sonido())\n",
        "\n",
        "# Crear objetos\n",
        "firulais = Perro()\n",
        "michi = Gato()\n",
        "\n",
        "# Usamos polimorfismo\n",
        "hacer_sonido(firulais)  # Ladra 🐶\n",
        "hacer_sonido(michi)     # Maulla 🐱\n",
        "```\n",
        "🔹 **Explicación:**  \n",
        "- `Perro` y `Gato` tienen un **método con el mismo nombre (`sonido()`)**.  \n",
        "- La función `hacer_sonido()` puede llamar el método sin importar el tipo de objeto.  \n",
        "\n",
        "📌 **Aplicaciones del polimorfismo:**  \n",
        "✅ Diseño de interfaces flexibles en software.  \n",
        "✅ Implementación de múltiples formas de **procesar datos diferentes**.  \n",
        "\n",
        "---\n",
        "\n",
        "# **3️⃣ Recursividad en Python**  \n",
        "### **📌 Concepto**\n",
        "La **recursividad** es una técnica en la que una función **se llama a sí misma** para resolver un problema en partes más pequeñas.  \n",
        "\n",
        "📌 **Ventajas de la recursividad:**  \n",
        "✅ Facilita la solución de problemas complejos como árboles y gráficos.  \n",
        "✅ Reduce la cantidad de código en problemas repetitivos.  \n",
        "\n",
        "📌 **Casos de uso comunes:**  \n",
        "- Factorial de un número.  \n",
        "- Secuencia de Fibonacci.  \n",
        "- Recorrido de árboles y grafos.  \n",
        "\n",
        "---\n",
        "\n",
        "### **💻 Ejemplo 3: Factorial de un Número (Recursividad)**\n",
        "📌 **El factorial de un número `n` se define como:**  \n",
        "\\[\n",
        "n! = n \\times (n-1) \\times (n-2) \\times ... \\times 1\n",
        "\\]\n",
        "```python\n",
        "def factorial(n):\n",
        "    if n == 0 or n == 1:\n",
        "        return 1\n",
        "    else:\n",
        "        return n * factorial(n - 1)  # Llamada recursiva\n",
        "\n",
        "print(factorial(5))  # Resultado: 120\n",
        "```\n",
        "🔹 **Explicación:**  \n",
        "1. Si `n == 0` o `n == 1`, retorna `1`. (Caso base).  \n",
        "2. Si `n > 1`, la función se **llama a sí misma** con `n - 1`.  \n",
        "\n",
        "📌 **Aplicaciones de la recursividad:**  \n",
        "✅ Algoritmos de búsqueda en **árboles y grafos**.  \n",
        "✅ Algoritmos de **ordenamiento recursivo** como QuickSort y MergeSort.  \n",
        "\n",
        "---\n",
        "\n",
        "### **💻 Ejemplo 4: Recorrer una Lista de Forma Recursiva**\n",
        "📌 **Recorremos una lista imprimiendo cada elemento de manera recursiva.**  \n",
        "```python\n",
        "def recorrer_lista(lista, index=0):\n",
        "    if index < len(lista):\n",
        "        print(lista[index])\n",
        "        recorrer_lista(lista, index + 1)  # Llamado recursivo\n",
        "\n",
        "datos = [1, 2, 3, 4, 5]\n",
        "recorrer_lista(datos)  \n",
        "```\n",
        "🔹 **Explicación:**  \n",
        "1. La función imprime el primer elemento de la lista.  \n",
        "2. Se llama a sí misma con `index + 1` hasta recorrer toda la lista.  \n",
        "\n",
        "---\n",
        "\n",
        "## **📌 Comparación y Diferencias**\n",
        "| **Concepto**  | **Definición**  | **Ejemplo**  | **Aplicaciones** |\n",
        "|--------------|--------------|--------------|--------------|\n",
        "| **Herencia**  | Reutilización de código de una clase padre en clases hijas.  | `class Perro(Animal)`  | Modelado de jerarquías (ejemplo: Empleado → Gerente).  |\n",
        "| **Polimorfismo**  | Diferentes clases pueden compartir métodos con nombres iguales pero con implementación distinta.  | `hacer_sonido(perro)` y `hacer_sonido(gato)`  | Interfaces flexibles y reutilizables.  |\n",
        "| **Recursividad**  | Una función se llama a sí misma hasta llegar a un caso base.  | `factorial(n) = n * factorial(n-1)`  | Algoritmos de búsqueda, estructuras de datos avanzadas.  |\n",
        "\n",
        "---\n",
        "\n",
        "# **📌 Conclusión**\n",
        "🎯 **¿Qué aprendimos?**  \n",
        "✅ **Herencia**: Nos permite reutilizar código de una clase padre en clases hijas.  \n",
        "✅ **Polimorfismo**: Nos permite escribir código flexible que puede manejar múltiples tipos de datos.  \n",
        "✅ **Recursividad**: Permite resolver problemas mediante llamadas repetidas a la misma función.  \n",
        "\n",
        "🚀 **Siguientes pasos:**  \n",
        "🔹 Prueba crear **una jerarquía de clases** con herencia y polimorfismo.  \n",
        "🔹 Usa **recursión** para resolver problemas como **la serie de Fibonacci** o **la búsqueda binaria**.  \n",
        "\n"
      ],
      "metadata": {
        "id": "-Px2EPe0_BXg"
      }
    },
    {
      "cell_type": "markdown",
      "source": [
        "Ejemplo 1: Herencia en Python\n",
        "📌 En este ejemplo, creamos una clase padre (Animal) y una clase hija (Perro) que hereda de ella."
      ],
      "metadata": {
        "id": "wedfM5hbObRn"
      }
    },
    {
      "cell_type": "code",
      "source": [
        "class Animal:\n",
        "    def __init__(self, nombre):\n",
        "        self.nombre = nombre\n",
        "\n",
        "    def sonido(self):\n",
        "        return \"Hace algún sonido\"\n",
        "\n",
        "# Clase hija que hereda de Animal\n",
        "class Perro(Animal):\n",
        "    def sonido(self):\n",
        "        return \"Ladra 🐶\"\n",
        "\n",
        "# Crear objetos\n",
        "animal = Animal(\"Criatura\")\n",
        "perro = Perro(\"Firulais\")\n",
        "\n",
        "print(animal.nombre, \"-\", animal.sonido())  # Criatura - Hace algún sonido\n",
        "print(perro.nombre, \"-\", perro.sonido())    # Firulais - Ladra 🐶"
      ],
      "metadata": {
        "id": "gJua024LN7Y4",
        "outputId": "b6085579-a839-4921-ca88-295ddd84c770",
        "colab": {
          "base_uri": "https://localhost:8080/"
        }
      },
      "execution_count": 1,
      "outputs": [
        {
          "output_type": "stream",
          "name": "stdout",
          "text": [
            "Criatura - Hace algún sonido\n",
            "Firulais - Ladra 🐶\n"
          ]
        }
      ]
    },
    {
      "cell_type": "markdown",
      "source": [
        "Metodo\n"
      ],
      "metadata": {
        "id": "ULsaoiqvPZxf"
      }
    },
    {
      "cell_type": "code",
      "source": [],
      "metadata": {
        "id": "-KX7Gq05_NT3"
      },
      "execution_count": null,
      "outputs": []
    }
  ]
}